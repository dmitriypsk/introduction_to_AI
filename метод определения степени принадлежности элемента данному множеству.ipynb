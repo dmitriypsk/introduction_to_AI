{
 "cells": [
  {
   "cell_type": "code",
   "execution_count": 1,
   "id": "7bc3af1f",
   "metadata": {},
   "outputs": [],
   "source": [
    "import numpy as np\n",
    "def levenshtein_ratio_and_distance(s, t, ratio_calc = False):\n",
    "    \"\"\" levenshtein_ratio_and_distance:\n",
    "        Вычисляет расстояние Левенштейна между двумя строками.\n",
    "        Если ratio_calc = True, функция вычисляет\n",
    "        отношение расстояния Левенштейна сходства между двумя строками\n",
    "        Для всех i и j Distance[i,j] будет содержать число Левенштейна.\n",
    "        расстояние между первыми i символами s и первые j символы t\n",
    "    \"\"\"\n",
    "    rows = len(s)+1\n",
    "    cols = len(t)+1\n",
    "    distance = np.zeros((rows,cols),dtype = int)\n",
    "\n",
    "    # Заполненнение матрицы нулей с показателями каждого характера обеих строк\n",
    "    for i in range(1, rows):\n",
    "        for k in range(1, cols):\n",
    "            distance[i][0] = i\n",
    "            distance[0][k] = k\n",
    "\n",
    "    # Итерация над матрицей для вычисления стоимости удалений, вставки и/или замены\n",
    "    for col in range(1, cols):\n",
    "        for row in range(1, rows):\n",
    "            if s[row-1] == t[col-1]:\n",
    "                cost = 0 # При одинаковых буквах на одинаковых местах стоимость замены 0, иначе 1\n",
    "            else:\n",
    "                if ratio_calc == True:\n",
    "                    cost = 2\n",
    "                else:\n",
    "                    cost = 1\n",
    "            distance[row][col] = min(distance[row-1][col] + 1,      # Стоимость удаления\n",
    "                                 distance[row][col-1] + 1,          # Стоимость вставки\n",
    "                                 distance[row-1][col-1] + cost)     # Стоимость замены\n",
    "    if ratio_calc == True:\n",
    "        Ratio = ((len(s)+len(t)) - distance[row][col]) / (len(s)+len(t))\n",
    "        return Ratio\n",
    "    else:\n",
    "        return (f\"Расстояние Левенштейна = {distance[row][col]}\")"
   ]
  },
  {
   "cell_type": "code",
   "execution_count": 5,
   "id": "0cb8e3ef",
   "metadata": {},
   "outputs": [
    {
     "name": "stdout",
     "output_type": "stream",
     "text": [
      "Ozon: Ноутбук Lenovo - Wildberries: Фотоаппарат Canon EOS 2000D\n",
      "Ozon: Смартфон Samsung Galaxy - Wildberries: Ноутбук Lenovo Ideapad\n",
      "Ozon: Фотоаппарат Canon EOS - Wildberries: Ноутбук Lenovo Ideapad\n"
     ]
    }
   ],
   "source": [
    "ozon_products = [\"Ноутбук Lenovo\", \"Смартфон Samsung Galaxy\", \"Фотоаппарат Canon EOS\"]\n",
    "wb_products = [\"Ноутбук Lenovo Ideapad\", \"Смартфон Samsung Galaxy S21\", \"Фотоаппарат Canon EOS 2000D\"]\n",
    "\n",
    "similar_products = {}\n",
    "for ozon_product in ozon_products:\n",
    "    for wb_product in wb_products:\n",
    "        distance = levenshtein_ratio_and_distance(ozon_product, wb_product)\n",
    "        if ozon_product not in similar_products:\n",
    "            similar_products[ozon_product] = {\"name\": wb_product, \"distance\": distance}\n",
    "        elif distance < similar_products[ozon_product][\"distance\"]:\n",
    "            similar_products[ozon_product][\"name\"] = wb_product\n",
    "            similar_products[ozon_product][\"distance\"] = distance\n",
    "\n",
    "for ozon_product, wb_product in similar_products.items():\n",
    "    print(f\"Ozon: {ozon_product} - Wildberries: {wb_product['name']}\")\n"
   ]
  },
  {
   "cell_type": "code",
   "execution_count": null,
   "id": "fa12f01b",
   "metadata": {},
   "outputs": [],
   "source": []
  }
 ],
 "metadata": {
  "kernelspec": {
   "display_name": "Python 3 (ipykernel)",
   "language": "python",
   "name": "python3"
  },
  "language_info": {
   "codemirror_mode": {
    "name": "ipython",
    "version": 3
   },
   "file_extension": ".py",
   "mimetype": "text/x-python",
   "name": "python",
   "nbconvert_exporter": "python",
   "pygments_lexer": "ipython3",
   "version": "3.11.0"
  }
 },
 "nbformat": 4,
 "nbformat_minor": 5
}
